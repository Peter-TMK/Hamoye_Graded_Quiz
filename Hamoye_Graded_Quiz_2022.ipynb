{
  "nbformat": 4,
  "nbformat_minor": 0,
  "metadata": {
    "colab": {
      "name": "Hamoye_Graded_Quiz_2022.ipynb",
      "provenance": [],
      "authorship_tag": "ABX9TyNPxrEshbqv+0kL7WIFVhht",
      "include_colab_link": true
    },
    "kernelspec": {
      "name": "python3",
      "display_name": "Python 3"
    },
    "language_info": {
      "name": "python"
    }
  },
  "cells": [
    {
      "cell_type": "markdown",
      "metadata": {
        "id": "view-in-github",
        "colab_type": "text"
      },
      "source": [
        "<a href=\"https://colab.research.google.com/github/Peter-TMK/Hamoye_Graded_Quiz/blob/main/Hamoye_Graded_Quiz_2022.ipynb\" target=\"_parent\"><img src=\"https://colab.research.google.com/assets/colab-badge.svg\" alt=\"Open In Colab\"/></a>"
      ]
    },
    {
      "cell_type": "code",
      "execution_count": 2,
      "metadata": {
        "colab": {
          "base_uri": "https://localhost:8080/"
        },
        "id": "wgF3XaZJY_Er",
        "outputId": "bb1d8c1b-e5d7-40c6-e697-0e74c300fcf7"
      },
      "outputs": [
        {
          "output_type": "stream",
          "name": "stdout",
          "text": [
            "3\n"
          ]
        }
      ],
      "source": [
        "print(3)"
      ]
    },
    {
      "cell_type": "code",
      "source": [
        "print(7)"
      ],
      "metadata": {
        "id": "iHhw3pNYZMBQ",
        "colab": {
          "base_uri": "https://localhost:8080/"
        },
        "outputId": "2dafe8a5-817a-40f1-95c4-37affc33051e"
      },
      "execution_count": 1,
      "outputs": [
        {
          "output_type": "stream",
          "name": "stdout",
          "text": [
            "7\n"
          ]
        }
      ]
    },
    {
      "cell_type": "code",
      "source": [
        ""
      ],
      "metadata": {
        "id": "fey0TZz4exZh"
      },
      "execution_count": null,
      "outputs": []
    }
  ]
}